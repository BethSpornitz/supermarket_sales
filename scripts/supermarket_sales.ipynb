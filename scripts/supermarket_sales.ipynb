{
 "cells": [
  {
   "cell_type": "markdown",
   "id": "dfd11592",
   "metadata": {},
   "source": [
    "Tile of project"
   ]
  }
 ],
 "metadata": {
  "language_info": {
   "name": "python"
  }
 },
 "nbformat": 4,
 "nbformat_minor": 5
}
